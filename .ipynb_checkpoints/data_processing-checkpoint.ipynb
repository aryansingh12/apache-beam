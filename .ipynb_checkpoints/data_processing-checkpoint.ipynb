{
 "cells": [
  {
   "cell_type": "code",
   "execution_count": 5,
   "metadata": {},
   "outputs": [
    {
     "name": "stdout",
     "output_type": "stream",
     "text": [
      "Requirement already satisfied: apache-beam[interactive] in /Users/atcdev/opt/anaconda3/lib/python3.7/site-packages (2.20.0)\n",
      "Requirement already satisfied: future<1.0.0,>=0.16.0 in /Users/atcdev/opt/anaconda3/lib/python3.7/site-packages (from apache-beam[interactive]) (0.17.1)\n",
      "Requirement already satisfied: hdfs<3.0.0,>=2.1.0 in /Users/atcdev/opt/anaconda3/lib/python3.7/site-packages (from apache-beam[interactive]) (2.5.8)\n",
      "Requirement already satisfied: pyarrow<0.17.0,>=0.15.1; python_version >= \"3.0\" or platform_system != \"Windows\" in /Users/atcdev/opt/anaconda3/lib/python3.7/site-packages (from apache-beam[interactive]) (0.16.0)\n",
      "Requirement already satisfied: pydot<2,>=1.2.0 in /Users/atcdev/opt/anaconda3/lib/python3.7/site-packages (from apache-beam[interactive]) (1.4.1)\n",
      "Requirement already satisfied: pytz>=2018.3 in /Users/atcdev/opt/anaconda3/lib/python3.7/site-packages (from apache-beam[interactive]) (2019.3)\n",
      "Requirement already satisfied: pymongo<4.0.0,>=3.8.0 in /Users/atcdev/opt/anaconda3/lib/python3.7/site-packages (from apache-beam[interactive]) (3.10.1)\n",
      "Requirement already satisfied: httplib2<=0.12.0,>=0.8 in /Users/atcdev/opt/anaconda3/lib/python3.7/site-packages (from apache-beam[interactive]) (0.12.0)\n",
      "Requirement already satisfied: dill<0.3.2,>=0.3.1.1 in /Users/atcdev/opt/anaconda3/lib/python3.7/site-packages (from apache-beam[interactive]) (0.3.1.1)\n",
      "Requirement already satisfied: grpcio<2,>=1.12.1 in /Users/atcdev/opt/anaconda3/lib/python3.7/site-packages (from apache-beam[interactive]) (1.28.1)\n",
      "Requirement already satisfied: mock<3.0.0,>=1.0.1 in /Users/atcdev/opt/anaconda3/lib/python3.7/site-packages (from apache-beam[interactive]) (2.0.0)\n",
      "Requirement already satisfied: oauth2client<4,>=2.0.1 in /Users/atcdev/opt/anaconda3/lib/python3.7/site-packages (from apache-beam[interactive]) (3.0.0)\n",
      "Requirement already satisfied: fastavro<0.22,>=0.21.4 in /Users/atcdev/opt/anaconda3/lib/python3.7/site-packages (from apache-beam[interactive]) (0.21.24)\n",
      "Requirement already satisfied: typing-extensions<3.8.0,>=3.7.0 in /Users/atcdev/opt/anaconda3/lib/python3.7/site-packages (from apache-beam[interactive]) (3.7.4.2)\n",
      "Requirement already satisfied: avro-python3!=1.9.2,<1.10.0,>=1.8.1; python_version >= \"3.0\" in /Users/atcdev/opt/anaconda3/lib/python3.7/site-packages (from apache-beam[interactive]) (1.9.2.1)\n",
      "Requirement already satisfied: numpy<2,>=1.14.3 in /Users/atcdev/opt/anaconda3/lib/python3.7/site-packages (from apache-beam[interactive]) (1.17.2)\n",
      "Requirement already satisfied: python-dateutil<3,>=2.8.0 in /Users/atcdev/opt/anaconda3/lib/python3.7/site-packages (from apache-beam[interactive]) (2.8.0)\n",
      "Requirement already satisfied: protobuf<4,>=3.5.0.post1 in /Users/atcdev/opt/anaconda3/lib/python3.7/site-packages (from apache-beam[interactive]) (3.11.3)\n",
      "Requirement already satisfied: crcmod<2.0,>=1.7 in /Users/atcdev/opt/anaconda3/lib/python3.7/site-packages (from apache-beam[interactive]) (1.7)\n",
      "Collecting ipython<6,>=5.8.0; extra == \"interactive\"\n",
      "  Downloading ipython-5.9.0-py3-none-any.whl (760 kB)\n",
      "\u001b[K     |████████████████████████████████| 760 kB 4.2 MB/s eta 0:00:01\n",
      "\u001b[?25hCollecting jsons<2,>=1.0.0; python_version >= \"3.5.3\" and extra == \"interactive\"\n",
      "  Downloading jsons-1.1.2-py3-none-any.whl (53 kB)\n",
      "\u001b[K     |████████████████████████████████| 53 kB 3.1 MB/s  eta 0:00:01\n",
      "\u001b[?25hCollecting timeloop<2,>=1.0.2; extra == \"interactive\"\n",
      "  Downloading timeloop-1.0.2.tar.gz (2.9 kB)\n",
      "Collecting facets-overview<2,>=1.0.0; extra == \"interactive\"\n",
      "  Downloading facets_overview-1.0.0-py2.py3-none-any.whl (24 kB)\n",
      "Requirement already satisfied: requests>=2.7.0 in /Users/atcdev/opt/anaconda3/lib/python3.7/site-packages (from hdfs<3.0.0,>=2.1.0->apache-beam[interactive]) (2.22.0)\n",
      "Requirement already satisfied: six>=1.9.0 in /Users/atcdev/opt/anaconda3/lib/python3.7/site-packages (from hdfs<3.0.0,>=2.1.0->apache-beam[interactive]) (1.12.0)\n",
      "Requirement already satisfied: docopt in /Users/atcdev/opt/anaconda3/lib/python3.7/site-packages (from hdfs<3.0.0,>=2.1.0->apache-beam[interactive]) (0.6.2)\n",
      "Requirement already satisfied: pyparsing>=2.1.4 in /Users/atcdev/opt/anaconda3/lib/python3.7/site-packages (from pydot<2,>=1.2.0->apache-beam[interactive]) (2.4.2)\n",
      "Requirement already satisfied: pbr>=0.11 in /Users/atcdev/opt/anaconda3/lib/python3.7/site-packages (from mock<3.0.0,>=1.0.1->apache-beam[interactive]) (5.4.5)\n",
      "Requirement already satisfied: rsa>=3.1.4 in /Users/atcdev/opt/anaconda3/lib/python3.7/site-packages (from oauth2client<4,>=2.0.1->apache-beam[interactive]) (4.0)\n",
      "Requirement already satisfied: pyasn1>=0.1.7 in /Users/atcdev/opt/anaconda3/lib/python3.7/site-packages (from oauth2client<4,>=2.0.1->apache-beam[interactive]) (0.4.8)\n",
      "Requirement already satisfied: pyasn1-modules>=0.0.5 in /Users/atcdev/opt/anaconda3/lib/python3.7/site-packages (from oauth2client<4,>=2.0.1->apache-beam[interactive]) (0.2.8)\n",
      "Requirement already satisfied: setuptools in /Users/atcdev/opt/anaconda3/lib/python3.7/site-packages (from protobuf<4,>=3.5.0.post1->apache-beam[interactive]) (46.1.3)\n",
      "Collecting prompt-toolkit<2.0.0,>=1.0.4\n",
      "  Downloading prompt_toolkit-1.0.18-py3-none-any.whl (245 kB)\n",
      "\u001b[K     |████████████████████████████████| 245 kB 8.8 MB/s eta 0:00:01\n",
      "\u001b[?25hRequirement already satisfied: pickleshare in /Users/atcdev/opt/anaconda3/lib/python3.7/site-packages (from ipython<6,>=5.8.0; extra == \"interactive\"->apache-beam[interactive]) (0.7.5)\n",
      "Requirement already satisfied: appnope; sys_platform == \"darwin\" in /Users/atcdev/opt/anaconda3/lib/python3.7/site-packages (from ipython<6,>=5.8.0; extra == \"interactive\"->apache-beam[interactive]) (0.1.0)\n",
      "Requirement already satisfied: traitlets>=4.2 in /Users/atcdev/opt/anaconda3/lib/python3.7/site-packages (from ipython<6,>=5.8.0; extra == \"interactive\"->apache-beam[interactive]) (4.3.3)\n",
      "Requirement already satisfied: pygments in /Users/atcdev/opt/anaconda3/lib/python3.7/site-packages (from ipython<6,>=5.8.0; extra == \"interactive\"->apache-beam[interactive]) (2.4.2)\n",
      "Requirement already satisfied: simplegeneric>0.8 in /Users/atcdev/opt/anaconda3/lib/python3.7/site-packages (from ipython<6,>=5.8.0; extra == \"interactive\"->apache-beam[interactive]) (0.8.1)\n",
      "Requirement already satisfied: pexpect; sys_platform != \"win32\" in /Users/atcdev/opt/anaconda3/lib/python3.7/site-packages (from ipython<6,>=5.8.0; extra == \"interactive\"->apache-beam[interactive]) (4.7.0)\n",
      "Requirement already satisfied: decorator in /Users/atcdev/opt/anaconda3/lib/python3.7/site-packages (from ipython<6,>=5.8.0; extra == \"interactive\"->apache-beam[interactive]) (4.4.0)\n",
      "Collecting typish>=1.3.1\n",
      "  Downloading typish-1.6.0-py3-none-any.whl (27 kB)\n",
      "Requirement already satisfied: pandas>=0.22.0 in /Users/atcdev/opt/anaconda3/lib/python3.7/site-packages (from facets-overview<2,>=1.0.0; extra == \"interactive\"->apache-beam[interactive]) (0.25.1)\n",
      "Requirement already satisfied: urllib3!=1.25.0,!=1.25.1,<1.26,>=1.21.1 in /Users/atcdev/opt/anaconda3/lib/python3.7/site-packages (from requests>=2.7.0->hdfs<3.0.0,>=2.1.0->apache-beam[interactive]) (1.24.2)\n",
      "Requirement already satisfied: certifi>=2017.4.17 in /Users/atcdev/opt/anaconda3/lib/python3.7/site-packages (from requests>=2.7.0->hdfs<3.0.0,>=2.1.0->apache-beam[interactive]) (2019.9.11)\n",
      "Requirement already satisfied: chardet<3.1.0,>=3.0.2 in /Users/atcdev/opt/anaconda3/lib/python3.7/site-packages (from requests>=2.7.0->hdfs<3.0.0,>=2.1.0->apache-beam[interactive]) (3.0.4)\n",
      "Requirement already satisfied: idna<2.9,>=2.5 in /Users/atcdev/opt/anaconda3/lib/python3.7/site-packages (from requests>=2.7.0->hdfs<3.0.0,>=2.1.0->apache-beam[interactive]) (2.8)\n",
      "Requirement already satisfied: wcwidth in /Users/atcdev/opt/anaconda3/lib/python3.7/site-packages (from prompt-toolkit<2.0.0,>=1.0.4->ipython<6,>=5.8.0; extra == \"interactive\"->apache-beam[interactive]) (0.1.7)\n",
      "Requirement already satisfied: ipython-genutils in /Users/atcdev/opt/anaconda3/lib/python3.7/site-packages (from traitlets>=4.2->ipython<6,>=5.8.0; extra == \"interactive\"->apache-beam[interactive]) (0.2.0)\n",
      "Requirement already satisfied: ptyprocess>=0.5 in /Users/atcdev/opt/anaconda3/lib/python3.7/site-packages (from pexpect; sys_platform != \"win32\"->ipython<6,>=5.8.0; extra == \"interactive\"->apache-beam[interactive]) (0.6.0)\n",
      "Building wheels for collected packages: timeloop\n"
     ]
    },
    {
     "name": "stdout",
     "output_type": "stream",
     "text": [
      "  Building wheel for timeloop (setup.py) ... \u001b[?25ldone\n",
      "\u001b[?25h  Created wheel for timeloop: filename=timeloop-1.0.2-py3-none-any.whl size=3719 sha256=88f89998c9c0c6ebe8dcbb4f9bd85a519f8b9106c5573c2866e3479ad0ccf252\n",
      "  Stored in directory: /Users/atcdev/Library/Caches/pip/wheels/3a/7e/fc/5e4d6da12b9ab6550604412936723ec6f2faf7391dd6726a01\n",
      "Successfully built timeloop\n",
      "\u001b[31mERROR: jupyter-console 6.0.0 has requirement prompt_toolkit<2.1.0,>=2.0.0, but you'll have prompt-toolkit 1.0.18 which is incompatible.\u001b[0m\n",
      "Installing collected packages: prompt-toolkit, ipython, typish, jsons, timeloop, facets-overview\n",
      "  Attempting uninstall: prompt-toolkit\n",
      "    Found existing installation: prompt-toolkit 2.0.10\n",
      "    Uninstalling prompt-toolkit-2.0.10:\n",
      "      Successfully uninstalled prompt-toolkit-2.0.10\n",
      "  Attempting uninstall: ipython\n",
      "    Found existing installation: ipython 7.8.0\n",
      "    Uninstalling ipython-7.8.0:\n",
      "      Successfully uninstalled ipython-7.8.0\n",
      "Successfully installed facets-overview-1.0.0 ipython-5.9.0 jsons-1.1.2 prompt-toolkit-1.0.18 timeloop-1.0.2 typish-1.6.0\n",
      "Note: you may need to restart the kernel to use updated packages.\n"
     ]
    }
   ],
   "source": [
    "pip install apache-beam[interactive]"
   ]
  },
  {
   "cell_type": "code",
   "execution_count": 1,
   "metadata": {},
   "outputs": [],
   "source": [
    "import apache_beam as beam, re"
   ]
  },
  {
   "cell_type": "code",
   "execution_count": 3,
   "metadata": {},
   "outputs": [
    {
     "name": "stderr",
     "output_type": "stream",
     "text": [
      "WARNING:apache_beam.runners.interactive.interactive_environment:Dependencies required for Interactive Beam PCollection visualization are not available, please use: `pip install apache-beam[interactive]` to install necessary dependencies to enable all data visualization features.\n"
     ]
    },
    {
     "name": "stdout",
     "output_type": "stream",
     "text": [
      "<apache_beam.pipeline.Pipeline object at 0x11a53b050>\n"
     ]
    }
   ],
   "source": [
    "with beam.Pipeline() as p:\n",
    "    print(p)\n",
    "    (p\n",
    "    | beam.io.ReadFromText(\"count.txt\")\n",
    "    )\n",
    "#     (p\n",
    "#     | beam.io.ReadFromText(\"count.txt\")\n",
    "#     | beam.FlatMap(lambda a:re.split(\"\\\\W+\", s))\n",
    "#     | beam.combiners().Count.PerElement()\n",
    "#     | beam.Map(lambda w,c: \"%s: %d\" %(w,c))\n",
    "#     | beam.io.textio.WriteToText(\"output/stringscounts\")\n",
    "#     )\n",
    "\n",
    "\n",
    "# read from text\n",
    "# flat map to convert it into \n",
    "# combiners - group by and then counting\n",
    "# map for formatting\n",
    "# S3, gcs, or any other file thing"
   ]
  },
  {
   "cell_type": "code",
   "execution_count": null,
   "metadata": {},
   "outputs": [],
   "source": []
  }
 ],
 "metadata": {
  "kernelspec": {
   "display_name": "Python 3",
   "language": "python",
   "name": "python3"
  },
  "language_info": {
   "codemirror_mode": {
    "name": "ipython",
    "version": 3
   },
   "file_extension": ".py",
   "mimetype": "text/x-python",
   "name": "python",
   "nbconvert_exporter": "python",
   "pygments_lexer": "ipython3",
   "version": "3.7.4"
  }
 },
 "nbformat": 4,
 "nbformat_minor": 2
}
